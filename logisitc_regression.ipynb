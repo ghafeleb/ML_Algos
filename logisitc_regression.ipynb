{
 "cells": [
  {
   "cell_type": "code",
   "execution_count": 1,
   "id": "cade848c",
   "metadata": {},
   "outputs": [],
   "source": [
    "import sys\n",
    "sys.path.insert(0, '../')\n",
    "%load_ext autoreload\n",
    "%autoreload 2\n",
    "\n",
    "import numpy as np\n",
    "from logistic_regression import *\n",
    "from sklearn.model_selection import train_test_split\n",
    "from sklearn import datasets\n",
    "from sklearn.metrics import confusion_matrix"
   ]
  },
  {
   "cell_type": "code",
   "execution_count": 2,
   "id": "0b038f9f",
   "metadata": {},
   "outputs": [],
   "source": [
    "# np.random.seed(42)\n",
    "# x = np.random.rand(5, 2)\n",
    "# y = np.random.randint(0, 2, (5, 1))\n",
    "# print(x)\n",
    "# print(y)"
   ]
  },
  {
   "cell_type": "code",
   "execution_count": 3,
   "id": "7e0d202b",
   "metadata": {},
   "outputs": [],
   "source": [
    "X = np.array([\n",
    "    [0, 0],\n",
    "    [1, 0],\n",
    "    [1, 0.5],\n",
    "    [2, 0.5],\n",
    "    [3, 2],\n",
    "])\n",
    "y = np.array([0, 0, 1, 0, 1])"
   ]
  },
  {
   "cell_type": "code",
   "execution_count": 4,
   "id": "df93dab5",
   "metadata": {},
   "outputs": [],
   "source": [
    "lr = 0.01\n",
    "n_iterations = 10000\n",
    "LR = LogisticRegressionNumPy(n_iterations, lr)"
   ]
  },
  {
   "cell_type": "code",
   "execution_count": 5,
   "id": "990e7d92",
   "metadata": {
    "scrolled": true
   },
   "outputs": [],
   "source": [
    "LR.fit(X, y)"
   ]
  },
  {
   "cell_type": "code",
   "execution_count": 6,
   "id": "9068da1d",
   "metadata": {},
   "outputs": [],
   "source": [
    "X_test = np.array([\n",
    "    [0, 0],\n",
    "    [1, 0.25],\n",
    "    [2, 1],\n",
    "    [3, 2],\n",
    "])\n",
    "y_test = np.array([0, 0, 1, 1,])"
   ]
  },
  {
   "cell_type": "code",
   "execution_count": 7,
   "id": "b2f8833d",
   "metadata": {},
   "outputs": [
    {
     "data": {
      "text/plain": [
       "[0, 0, 1, 1]"
      ]
     },
     "execution_count": 7,
     "metadata": {},
     "output_type": "execute_result"
    }
   ],
   "source": [
    "LR.predict_labels(X_test, 0.5)"
   ]
  },
  {
   "cell_type": "code",
   "execution_count": 8,
   "id": "a37fe2e2",
   "metadata": {},
   "outputs": [
    {
     "data": {
      "text/plain": [
       "[0, 0, 1, 1]"
      ]
     },
     "execution_count": 8,
     "metadata": {},
     "output_type": "execute_result"
    }
   ],
   "source": [
    "predictions = LR.predict_labels(X_test, 0.75)\n",
    "predictions"
   ]
  },
  {
   "cell_type": "code",
   "execution_count": 9,
   "id": "76b9de69",
   "metadata": {},
   "outputs": [
    {
     "name": "stdout",
     "output_type": "stream",
     "text": [
      "1.0\n"
     ]
    }
   ],
   "source": [
    "print(accuracy(predictions, y_test))"
   ]
  },
  {
   "cell_type": "code",
   "execution_count": null,
   "id": "e59c7d45",
   "metadata": {},
   "outputs": [
    {
     "name": "stderr",
     "output_type": "stream",
     "text": [
      "/home/ali/Desktop/ML_Algos/logistic_regression.py:70: RuntimeWarning: overflow encountered in exp\n",
      "  \n"
     ]
    }
   ],
   "source": [
    "dataset = datasets.load_breast_cancer()\n",
    "X, y = dataset.data, dataset.target\n",
    "X, y = dataset.data, dataset.target \n",
    "X_train, X_test, y_train, y_test = train_test_split(\n",
    "    X, y, test_size=0.2, random_state=1234\n",
    ")\n",
    "regressor = LogisticRegressionNumPy2(10000, 0.01)\n",
    "regressor.fit(X_train, y_train)\n",
    "predictions = regressor.predict_labels(X_test, threshold=0.5)\n",
    "print(accuracy(predictions, y_test))"
   ]
  },
  {
   "cell_type": "code",
   "execution_count": 14,
   "id": "ce5d3762",
   "metadata": {},
   "outputs": [
    {
     "name": "stderr",
     "output_type": "stream",
     "text": [
      "/home/ali/Desktop/ML_Algos/logistic_regression.py:100: RuntimeWarning: overflow encountered in exp\n",
      "  return 1 / (1 + np.exp(-x))\n"
     ]
    },
    {
     "name": "stdout",
     "output_type": "stream",
     "text": [
      "0.9035087719298246\n"
     ]
    }
   ],
   "source": [
    "dataset = datasets.load_breast_cancer()\n",
    "X, y = dataset.data, dataset.target\n",
    "X, y = dataset.data, dataset.target \n",
    "X_train, X_test, y_train, y_test = train_test_split(\n",
    "    X, y, test_size=0.2, random_state=1234\n",
    ")\n",
    "regressor = LogisticRegressionNumPy(10000, 0.01)\n",
    "regressor.fit(X_train, y_train)\n",
    "predictions = regressor.predict_labels(X_test, threshold=0.5)\n",
    "print(accuracy(predictions, y_test))"
   ]
  },
  {
   "cell_type": "code",
   "execution_count": null,
   "id": "6acae06d",
   "metadata": {},
   "outputs": [],
   "source": [
    "dataset = datasets.load_breast_cancer()\n",
    "X, y = dataset.data, dataset.target\n",
    "\n",
    "X, y = dataset.data, dataset.target \n",
    "X_train, X_test, y_train, y_test = train_test_split(\n",
    "    X, y, test_size=0.2, random_state=1234\n",
    ")\n",
    "\n",
    "regressor = LogisticRegressionBaseline(0.01, 10000)\n",
    "regressor.fit(X_train, y_train)\n",
    "predictions = regressor.predict(X_test)\n",
    "print(accuracy(predictions, y_test))"
   ]
  },
  {
   "cell_type": "code",
   "execution_count": null,
   "id": "c26bb7b3",
   "metadata": {},
   "outputs": [],
   "source": []
  },
  {
   "cell_type": "code",
   "execution_count": null,
   "id": "f1485007",
   "metadata": {},
   "outputs": [],
   "source": [
    "def f(a) -> [np.ndarray, int]:\n",
    "    return np.zeros(2), 0\n",
    "f(2)"
   ]
  },
  {
   "cell_type": "code",
   "execution_count": null,
   "id": "5d706f97",
   "metadata": {},
   "outputs": [],
   "source": []
  }
 ],
 "metadata": {
  "kernelspec": {
   "display_name": "ptp37",
   "language": "python",
   "name": "ptp37"
  },
  "language_info": {
   "codemirror_mode": {
    "name": "ipython",
    "version": 3
   },
   "file_extension": ".py",
   "mimetype": "text/x-python",
   "name": "python",
   "nbconvert_exporter": "python",
   "pygments_lexer": "ipython3",
   "version": "3.7.16"
  }
 },
 "nbformat": 4,
 "nbformat_minor": 5
}
