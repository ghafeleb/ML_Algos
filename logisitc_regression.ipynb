{
 "cells": [
  {
   "cell_type": "code",
   "execution_count": 1,
   "id": "ea5b4f1f",
   "metadata": {},
   "outputs": [],
   "source": [
    "import sys\n",
    "sys.path.insert(0, '../')\n",
    "%load_ext autoreload\n",
    "%autoreload 2\n",
    "\n",
    "import numpy as np\n",
    "from logistic_regression import *\n",
    "from sklearn.model_selection import train_test_split\n",
    "from sklearn import datasets\n",
    "from sklearn.metrics import confusion_matrix"
   ]
  },
  {
   "cell_type": "code",
   "execution_count": 2,
   "id": "4ed0526a",
   "metadata": {},
   "outputs": [],
   "source": [
    "# np.random.seed(42)\n",
    "# x = np.random.rand(5, 2)\n",
    "# y = np.random.randint(0, 2, (5, 1))\n",
    "# print(x)\n",
    "# print(y)"
   ]
  },
  {
   "cell_type": "code",
   "execution_count": 3,
   "id": "055e8663",
   "metadata": {},
   "outputs": [],
   "source": [
    "X = np.array([\n",
    "    [0, 0],\n",
    "    [1, 0],\n",
    "    [1, 0.5],\n",
    "    [2, 0.5],\n",
    "    [3, 2],\n",
    "])\n",
    "y = np.array([0, 0, 1, 0, 1])"
   ]
  },
  {
   "cell_type": "code",
   "execution_count": null,
   "id": "a0a15986",
   "metadata": {},
   "outputs": [],
   "source": []
  },
  {
   "cell_type": "code",
   "execution_count": 22,
   "id": "3c463780",
   "metadata": {},
   "outputs": [],
   "source": [
    "lr = 0.01\n",
    "n_iterations = 10000\n",
    "LR = LogisticRegressionNumPy(n_iterations, lr)"
   ]
  },
  {
   "cell_type": "code",
   "execution_count": 23,
   "id": "a07089b4",
   "metadata": {
    "scrolled": true
   },
   "outputs": [],
   "source": [
    "LR.fit(X, y)"
   ]
  },
  {
   "cell_type": "code",
   "execution_count": 25,
   "id": "f549bd83",
   "metadata": {},
   "outputs": [
    {
     "data": {
      "text/plain": [
       "array([-1.06232555,  4.92633532])"
      ]
     },
     "execution_count": 25,
     "metadata": {},
     "output_type": "execute_result"
    }
   ],
   "source": [
    "LR.w"
   ]
  },
  {
   "cell_type": "code",
   "execution_count": 26,
   "id": "63ef0307",
   "metadata": {},
   "outputs": [
    {
     "data": {
      "text/plain": [
       "-1.4440892465132849"
      ]
     },
     "execution_count": 26,
     "metadata": {},
     "output_type": "execute_result"
    }
   ],
   "source": [
    "LR.b"
   ]
  },
  {
   "cell_type": "code",
   "execution_count": 27,
   "id": "c07d0afd",
   "metadata": {},
   "outputs": [],
   "source": [
    "X_test = np.array([\n",
    "    [0, 0],\n",
    "    [1, 0.25],\n",
    "    [2, 1],\n",
    "    [3, 2],\n",
    "])\n",
    "y_test = np.array([0, 0, 1, 1,])"
   ]
  },
  {
   "cell_type": "code",
   "execution_count": 28,
   "id": "b461c294",
   "metadata": {},
   "outputs": [
    {
     "data": {
      "text/plain": [
       "[0, 0, 1, 1]"
      ]
     },
     "execution_count": 28,
     "metadata": {},
     "output_type": "execute_result"
    }
   ],
   "source": [
    "LR.predict_labels(X_test, 0.5)"
   ]
  },
  {
   "cell_type": "code",
   "execution_count": 29,
   "id": "7245c4d6",
   "metadata": {},
   "outputs": [
    {
     "data": {
      "text/plain": [
       "[0, 0, 1, 1]"
      ]
     },
     "execution_count": 29,
     "metadata": {},
     "output_type": "execute_result"
    }
   ],
   "source": [
    "predictions = LR.predict_labels(X_test, 0.75)\n",
    "predictions"
   ]
  },
  {
   "cell_type": "code",
   "execution_count": 30,
   "id": "9d9a2882",
   "metadata": {},
   "outputs": [
    {
     "name": "stdout",
     "output_type": "stream",
     "text": [
      "1.0\n"
     ]
    }
   ],
   "source": [
    "print(accuracy(predictions, y_test))"
   ]
  },
  {
   "cell_type": "code",
   "execution_count": null,
   "id": "d45acaf9",
   "metadata": {},
   "outputs": [],
   "source": []
  },
  {
   "cell_type": "code",
   "execution_count": 44,
   "id": "e276e413",
   "metadata": {},
   "outputs": [],
   "source": [
    "X_list = X.tolist()\n",
    "y_list = y.tolist()\n"
   ]
  },
  {
   "cell_type": "code",
   "execution_count": 45,
   "id": "cd612f06",
   "metadata": {},
   "outputs": [],
   "source": [
    "lr = 0.01\n",
    "n_iterations = 10000\n",
    "LR = LogisticRegression(n_iterations, lr)"
   ]
  },
  {
   "cell_type": "code",
   "execution_count": 46,
   "id": "e11567c9",
   "metadata": {
    "scrolled": true
   },
   "outputs": [],
   "source": [
    "LR.fit(X_list, y_list)"
   ]
  },
  {
   "cell_type": "code",
   "execution_count": 47,
   "id": "7f230909",
   "metadata": {},
   "outputs": [
    {
     "data": {
      "text/plain": [
       "[-1.0623255454917568, 4.926335320163288]"
      ]
     },
     "execution_count": 47,
     "metadata": {},
     "output_type": "execute_result"
    }
   ],
   "source": [
    "LR.W"
   ]
  },
  {
   "cell_type": "code",
   "execution_count": 48,
   "id": "74f49d64",
   "metadata": {},
   "outputs": [
    {
     "data": {
      "text/plain": [
       "-1.444089246513285"
      ]
     },
     "execution_count": 48,
     "metadata": {},
     "output_type": "execute_result"
    }
   ],
   "source": [
    "LR.b"
   ]
  },
  {
   "cell_type": "code",
   "execution_count": 49,
   "id": "9c18681b",
   "metadata": {},
   "outputs": [],
   "source": [
    "X_test_list = X_test.tolist()\n",
    "y_test_list = y_test.tolist()"
   ]
  },
  {
   "cell_type": "code",
   "execution_count": 50,
   "id": "f688ab41",
   "metadata": {},
   "outputs": [
    {
     "data": {
      "text/plain": [
       "[0, 0, 1, 1]"
      ]
     },
     "execution_count": 50,
     "metadata": {},
     "output_type": "execute_result"
    }
   ],
   "source": [
    "LR.predict_labels(X_test, 0.5)"
   ]
  },
  {
   "cell_type": "code",
   "execution_count": 51,
   "id": "b67c7dd5",
   "metadata": {},
   "outputs": [
    {
     "data": {
      "text/plain": [
       "[0, 0, 1, 1]"
      ]
     },
     "execution_count": 51,
     "metadata": {},
     "output_type": "execute_result"
    }
   ],
   "source": [
    "predictions = LR.predict_labels(X_test, 0.75)\n",
    "predictions"
   ]
  },
  {
   "cell_type": "code",
   "execution_count": 52,
   "id": "a506349d",
   "metadata": {},
   "outputs": [
    {
     "name": "stdout",
     "output_type": "stream",
     "text": [
      "1.0\n"
     ]
    }
   ],
   "source": [
    "print(accuracy(predictions, y_test))"
   ]
  },
  {
   "cell_type": "code",
   "execution_count": null,
   "id": "881aa8ec",
   "metadata": {},
   "outputs": [],
   "source": []
  },
  {
   "cell_type": "code",
   "execution_count": null,
   "id": "2aec03f5",
   "metadata": {},
   "outputs": [],
   "source": [
    "dataset = datasets.load_breast_cancer()\n",
    "X, y = dataset.data, dataset.target\n",
    "X, y = dataset.data, dataset.target \n",
    "X_train, X_test, y_train, y_test = train_test_split(\n",
    "    X, y, test_size=0.2, random_state=1234\n",
    ")\n",
    "regressor = LogisticRegressionNumPy2(10000, 0.01)\n",
    "regressor.fit(X_train, y_train)\n",
    "predictions = regressor.predict_labels(X_test, threshold=0.5)\n",
    "print(accuracy(predictions, y_test))"
   ]
  },
  {
   "cell_type": "code",
   "execution_count": null,
   "id": "bb2ae5fe",
   "metadata": {},
   "outputs": [],
   "source": [
    "dataset = datasets.load_breast_cancer()\n",
    "X, y = dataset.data, dataset.target\n",
    "X, y = dataset.data, dataset.target \n",
    "X_train, X_test, y_train, y_test = train_test_split(\n",
    "    X, y, test_size=0.2, random_state=1234\n",
    ")\n",
    "regressor = LogisticRegressionNumPy(10000, 0.01)\n",
    "regressor.fit(X_train, y_train)\n",
    "predictions = regressor.predict_labels(X_test, threshold=0.5)\n",
    "print(accuracy(predictions, y_test))"
   ]
  },
  {
   "cell_type": "code",
   "execution_count": null,
   "id": "f40dcfb9",
   "metadata": {},
   "outputs": [],
   "source": [
    "dataset = datasets.load_breast_cancer()\n",
    "X, y = dataset.data, dataset.target\n",
    "\n",
    "X, y = dataset.data, dataset.target \n",
    "X_train, X_test, y_train, y_test = train_test_split(\n",
    "    X, y, test_size=0.2, random_state=1234\n",
    ")\n",
    "\n",
    "regressor = LogisticRegressionBaseline(0.01, 10000)\n",
    "regressor.fit(X_train, y_train)\n",
    "predictions = regressor.predict(X_test)\n",
    "print(accuracy(predictions, y_test))"
   ]
  },
  {
   "cell_type": "code",
   "execution_count": null,
   "id": "2e1338e2",
   "metadata": {},
   "outputs": [],
   "source": []
  },
  {
   "cell_type": "code",
   "execution_count": null,
   "id": "62230b29",
   "metadata": {},
   "outputs": [],
   "source": [
    "def f(a) -> [np.ndarray, int]:\n",
    "    return np.zeros(2), 0\n",
    "f(2)"
   ]
  },
  {
   "cell_type": "code",
   "execution_count": null,
   "id": "2d86b972",
   "metadata": {},
   "outputs": [],
   "source": [
    "import math\n",
    "math.exp(0)"
   ]
  },
  {
   "cell_type": "code",
   "execution_count": null,
   "id": "0bd4e03f",
   "metadata": {},
   "outputs": [],
   "source": [
    "math.exp(1)"
   ]
  },
  {
   "cell_type": "code",
   "execution_count": null,
   "id": "2f6dd019",
   "metadata": {},
   "outputs": [],
   "source": []
  }
 ],
 "metadata": {
  "kernelspec": {
   "display_name": "ptp37",
   "language": "python",
   "name": "ptp37"
  },
  "language_info": {
   "codemirror_mode": {
    "name": "ipython",
    "version": 3
   },
   "file_extension": ".py",
   "mimetype": "text/x-python",
   "name": "python",
   "nbconvert_exporter": "python",
   "pygments_lexer": "ipython3",
   "version": "3.7.16"
  }
 },
 "nbformat": 4,
 "nbformat_minor": 5
}
