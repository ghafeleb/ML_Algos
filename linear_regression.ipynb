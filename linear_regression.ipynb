{
 "cells": [
  {
   "cell_type": "code",
   "execution_count": 81,
   "id": "b58b4033",
   "metadata": {},
   "outputs": [
    {
     "name": "stdout",
     "output_type": "stream",
     "text": [
      "The autoreload extension is already loaded. To reload it, use:\n",
      "  %reload_ext autoreload\n"
     ]
    }
   ],
   "source": [
    "import sys\n",
    "sys.path.insert(0, '../')\n",
    "%load_ext autoreload\n",
    "%autoreload 2\n",
    "import random\n",
    "import numpy as np\n",
    "from linear_regression import *"
   ]
  },
  {
   "cell_type": "code",
   "execution_count": 95,
   "id": "0b0e4c23",
   "metadata": {},
   "outputs": [
    {
     "data": {
      "text/plain": [
       "array([ 4.70114245,  5.63555881,  8.28495179,  9.40200197, 12.80930019])"
      ]
     },
     "execution_count": 95,
     "metadata": {},
     "output_type": "execute_result"
    }
   ],
   "source": [
    "X = np.array([\n",
    "    [1,],\n",
    "    [2,],\n",
    "    [3,],\n",
    "    [4,],\n",
    "    [5,],\n",
    "])\n",
    "slope = 2\n",
    "intercept = 1\n",
    "y = np.array([x[0]*slope + intercept + random.random()*2 for x in X])\n",
    "\n",
    "X_list = X.tolist()\n",
    "y_list = y.tolist()\n",
    "\n",
    "y"
   ]
  },
  {
   "cell_type": "code",
   "execution_count": 96,
   "id": "0e672290",
   "metadata": {},
   "outputs": [
    {
     "data": {
      "image/png": "[encoded data removed]",
      "text/plain": [
       "<Figure size 640x480 with 1 Axes>"
      ]
     },
     "metadata": {},
     "output_type": "display_data"
    }
   ],
   "source": [
    "import matplotlib.pyplot as plt\n",
    "plt.scatter(X, y)\n",
    "plt.show()"
   ]
  },
  {
   "cell_type": "code",
   "execution_count": 115,
   "id": "4713833e",
   "metadata": {},
   "outputs": [],
   "source": [
    "LR = LinearRegression(100000, 0.001)"
   ]
  },
  {
   "cell_type": "code",
   "execution_count": 116,
   "id": "5594e067",
   "metadata": {},
   "outputs": [],
   "source": [
    "LR.fit(X_list, y_list)"
   ]
  },
  {
   "cell_type": "code",
   "execution_count": 117,
   "id": "b997aa2d",
   "metadata": {},
   "outputs": [
    {
     "data": {
      "text/plain": [
       "[1.9982758639974456]"
      ]
     },
     "execution_count": 117,
     "metadata": {},
     "output_type": "execute_result"
    }
   ],
   "source": [
    "LR.W"
   ]
  },
  {
   "cell_type": "code",
   "execution_count": 118,
   "id": "ce25c709",
   "metadata": {},
   "outputs": [
    {
     "data": {
      "text/plain": [
       "2.1717634496391236"
      ]
     },
     "execution_count": 118,
     "metadata": {},
     "output_type": "execute_result"
    }
   ],
   "source": [
    "LR.b"
   ]
  },
  {
   "cell_type": "code",
   "execution_count": 119,
   "id": "a5856c60",
   "metadata": {},
   "outputs": [
    {
     "data": {
      "text/plain": [
       "[74.99530039738701,\n",
       " 71.52194722404906,\n",
       " 68.21100885586567,\n",
       " 65.05489014823658,\n",
       " 62.04635113530446,\n",
       " 59.1784904204039,\n",
       " 56.44472934323826,\n",
       " 53.83879688746134,\n",
       " 51.3547152940396,\n",
       " 48.98678634739023]"
      ]
     },
     "execution_count": 119,
     "metadata": {},
     "output_type": "execute_result"
    }
   ],
   "source": [
    "LR.losses[:10]"
   ]
  },
  {
   "cell_type": "code",
   "execution_count": 120,
   "id": "159351d6",
   "metadata": {},
   "outputs": [
    {
     "data": {
      "text/plain": [
       "[0.3158782988620675,\n",
       " 0.3158782988620675,\n",
       " 0.3158782988620675,\n",
       " 0.3158782988620675,\n",
       " 0.3158782988620675,\n",
       " 0.3158782988620675,\n",
       " 0.3158782988620675,\n",
       " 0.3158782988620675,\n",
       " 0.3158782988620675,\n",
       " 0.3158782988620675]"
      ]
     },
     "execution_count": 120,
     "metadata": {},
     "output_type": "execute_result"
    }
   ],
   "source": [
    "LR.losses[-10:]"
   ]
  },
  {
   "cell_type": "code",
   "execution_count": null,
   "id": "1459b021",
   "metadata": {},
   "outputs": [],
   "source": []
  },
  {
   "cell_type": "code",
   "execution_count": null,
   "id": "299f19cc",
   "metadata": {},
   "outputs": [],
   "source": []
  }
 ],
 "metadata": {
  "kernelspec": {
   "display_name": "ptp37",
   "language": "python",
   "name": "ptp37"
  },
  "language_info": {
   "codemirror_mode": {
    "name": "ipython",
    "version": 3
   },
   "file_extension": ".py",
   "mimetype": "text/x-python",
   "name": "python",
   "nbconvert_exporter": "python",
   "pygments_lexer": "ipython3",
   "version": "3.7.16"
  }
 },
 "nbformat": 4,
 "nbformat_minor": 5
}
