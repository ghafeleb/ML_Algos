{
 "cells": [
  {
   "cell_type": "code",
   "execution_count": 1,
   "id": "7077963d",
   "metadata": {},
   "outputs": [],
   "source": [
    "import sys\n",
    "sys.path.insert(0, '../')\n",
    "%load_ext autoreload\n",
    "%autoreload 2\n",
    "from cross_validation import cross_validation, cross_validation_np\n",
    "import numpy as np"
   ]
  },
  {
   "cell_type": "code",
   "execution_count": 2,
   "id": "768b8a9c",
   "metadata": {},
   "outputs": [
    {
     "data": {
      "text/plain": [
       "array([[0.37454012, 0.95071431],\n",
       "       [0.73199394, 0.59865848],\n",
       "       [0.15601864, 0.15599452],\n",
       "       [0.05808361, 0.86617615],\n",
       "       [0.60111501, 0.70807258]])"
      ]
     },
     "execution_count": 2,
     "metadata": {},
     "output_type": "execute_result"
    }
   ],
   "source": [
    "np.random.seed(42)\n",
    "data_np = np.random.rand(5, 2)\n",
    "data_np"
   ]
  },
  {
   "cell_type": "code",
   "execution_count": 3,
   "id": "7c919be3",
   "metadata": {},
   "outputs": [
    {
     "data": {
      "text/plain": [
       "[[0.3745401188473625, 0.9507143064099162],\n",
       " [0.7319939418114051, 0.5986584841970366],\n",
       " [0.15601864044243652, 0.15599452033620265],\n",
       " [0.05808361216819946, 0.8661761457749352],\n",
       " [0.6011150117432088, 0.7080725777960455]]"
      ]
     },
     "execution_count": 3,
     "metadata": {},
     "output_type": "execute_result"
    }
   ],
   "source": [
    "data = data_np.tolist()\n",
    "data"
   ]
  },
  {
   "cell_type": "markdown",
   "id": "b3e0bd76",
   "metadata": {},
   "source": [
    "# No NumPy"
   ]
  },
  {
   "cell_type": "code",
   "execution_count": 4,
   "id": "9925f37d",
   "metadata": {},
   "outputs": [],
   "source": []
  },
  {
   "cell_type": "code",
   "execution_count": 5,
   "id": "dc197738",
   "metadata": {},
   "outputs": [],
   "source": [
    "k = 3\n",
    "folds = cross_validation(k, data, validation=True)"
   ]
  },
  {
   "cell_type": "code",
   "execution_count": 9,
   "id": "48cad0b2",
   "metadata": {},
   "outputs": [
    {
     "data": {
      "text/plain": [
       "[2, 3, 4]"
      ]
     },
     "execution_count": 9,
     "metadata": {},
     "output_type": "execute_result"
    }
   ],
   "source": [
    "folds[0][0]"
   ]
  },
  {
   "cell_type": "code",
   "execution_count": 10,
   "id": "e29ba418",
   "metadata": {},
   "outputs": [
    {
     "name": "stdout",
     "output_type": "stream",
     "text": [
      "\n",
      "fold  0\n",
      "train:\n",
      "[0.15601864044243652, 0.15599452033620265]\n",
      "[0.05808361216819946, 0.8661761457749352]\n",
      "[0.6011150117432088, 0.7080725777960455]\n",
      "validation:\n",
      "[0.3745401188473625, 0.9507143064099162]\n",
      "test:\n",
      "[0.7319939418114051, 0.5986584841970366]\n",
      "\n",
      "fold  1\n",
      "train:\n",
      "[0.3745401188473625, 0.9507143064099162]\n",
      "[0.05808361216819946, 0.8661761457749352]\n",
      "[0.6011150117432088, 0.7080725777960455]\n",
      "validation:\n",
      "[0.7319939418114051, 0.5986584841970366]\n",
      "test:\n",
      "[0.15601864044243652, 0.15599452033620265]\n",
      "\n",
      "fold  2\n",
      "train:\n",
      "[0.3745401188473625, 0.9507143064099162]\n",
      "[0.7319939418114051, 0.5986584841970366]\n",
      "[0.6011150117432088, 0.7080725777960455]\n",
      "validation:\n",
      "[0.15601864044243652, 0.15599452033620265]\n",
      "test:\n",
      "[0.05808361216819946, 0.8661761457749352]\n"
     ]
    }
   ],
   "source": [
    "for fold_idx in range(k):\n",
    "    print(\"\\nfold \", fold_idx)\n",
    "    print(\"train:\")\n",
    "    for idx in folds[fold_idx][0]:\n",
    "        print(data[idx])\n",
    "    print(\"validation:\")\n",
    "    for idx in folds[fold_idx][1]:\n",
    "        print(data[idx])\n",
    "    print(\"test:\")\n",
    "    for idx in folds[fold_idx][2]:\n",
    "        print(data[idx])"
   ]
  },
  {
   "cell_type": "code",
   "execution_count": null,
   "id": "7018ab8c",
   "metadata": {},
   "outputs": [],
   "source": []
  },
  {
   "cell_type": "markdown",
   "id": "89a88a6c",
   "metadata": {},
   "source": [
    "# NumPy"
   ]
  },
  {
   "cell_type": "code",
   "execution_count": 12,
   "id": "0d0489df",
   "metadata": {},
   "outputs": [],
   "source": [
    "def cross_validation_np(k, data, validation = False):\n",
    "    n_sample, n_feature = data.shape\n",
    "    n_sample_fold = n_sample // k\n",
    "    indicies = list(range(n_sample))\n",
    "    idx_folds = []\n",
    "    for fold in range(k):\n",
    "        if validation:\n",
    "            assert k > 2, print(\"not enough folds!\")\n",
    "            val_idx = indicies[fold * n_sample_fold:(fold + 1) * n_sample_fold]\n",
    "            test_idx = indicies[(fold + 1) * n_sample_fold:(fold + 2) * n_sample_fold]\n",
    "\n",
    "            train_idx_part_1 = indicies[:fold * n_sample_fold]\n",
    "            train_idx_part_2 = indicies[(fold + 2) * n_sample_fold:]\n",
    "            train_idx = train_idx_part_1 + train_idx_part_2\n",
    "\n",
    "            idx_folds.append([train_idx, val_idx, test_idx])\n",
    "        else:\n",
    "            test_idx = indicies[fold * n_sample_fold:(fold + 1) * n_sample_fold]\n",
    "\n",
    "            train_idx_part_1 = indicies[:fold * n_sample_fold]\n",
    "            train_idx_part_2 = indicies[(fold + 1) * n_sample_fold:]\n",
    "            train_idx = np.concatenate([train_idx_part_1, train_idx_part_2])\n",
    "\n",
    "            idx_folds.append([train_idx, test_idx])\n",
    "    return idx_folds"
   ]
  },
  {
   "cell_type": "code",
   "execution_count": 14,
   "id": "953c823c",
   "metadata": {},
   "outputs": [],
   "source": [
    "k = 3\n",
    "folds_np = cross_validation_np(k, data_np, validation=True)"
   ]
  },
  {
   "cell_type": "code",
   "execution_count": 15,
   "id": "befbff9f",
   "metadata": {},
   "outputs": [
    {
     "data": {
      "text/plain": [
       "[[[2, 3, 4], [0], [1]], [[0, 3, 4], [1], [2]], [[0, 1, 4], [2], [3]]]"
      ]
     },
     "execution_count": 15,
     "metadata": {},
     "output_type": "execute_result"
    }
   ],
   "source": [
    "folds_np"
   ]
  },
  {
   "cell_type": "code",
   "execution_count": 17,
   "id": "852aabe5",
   "metadata": {},
   "outputs": [
    {
     "name": "stdout",
     "output_type": "stream",
     "text": [
      "\n",
      "fold  0\n",
      "train:\n",
      "[[0.15601864 0.15599452]\n",
      " [0.05808361 0.86617615]\n",
      " [0.60111501 0.70807258]]\n",
      "validation:\n",
      "[[0.37454012 0.95071431]]\n",
      "test:\n",
      "[[0.73199394 0.59865848]]\n",
      "\n",
      "fold  1\n",
      "train:\n",
      "[[0.37454012 0.95071431]\n",
      " [0.05808361 0.86617615]\n",
      " [0.60111501 0.70807258]]\n",
      "validation:\n",
      "[[0.73199394 0.59865848]]\n",
      "test:\n",
      "[[0.15601864 0.15599452]]\n",
      "\n",
      "fold  2\n",
      "train:\n",
      "[[0.37454012 0.95071431]\n",
      " [0.73199394 0.59865848]\n",
      " [0.60111501 0.70807258]]\n",
      "validation:\n",
      "[[0.15601864 0.15599452]]\n",
      "test:\n",
      "[[0.05808361 0.86617615]]\n"
     ]
    }
   ],
   "source": [
    "for fold_idx in range(k):\n",
    "    print(\"\\nfold \", fold_idx)\n",
    "    print(\"train:\")\n",
    "    print(data_np[folds[fold_idx][0]])\n",
    "    print(\"validation:\")\n",
    "    print(data_np[folds[fold_idx][1]])\n",
    "    print(\"test:\")\n",
    "    print(data_np[folds[fold_idx][2]])"
   ]
  },
  {
   "cell_type": "code",
   "execution_count": null,
   "id": "38b02a2a",
   "metadata": {},
   "outputs": [],
   "source": []
  }
 ],
 "metadata": {
  "kernelspec": {
   "display_name": "ptp37",
   "language": "python",
   "name": "ptp37"
  },
  "language_info": {
   "codemirror_mode": {
    "name": "ipython",
    "version": 3
   },
   "file_extension": ".py",
   "mimetype": "text/x-python",
   "name": "python",
   "nbconvert_exporter": "python",
   "pygments_lexer": "ipython3",
   "version": "3.7.16"
  }
 },
 "nbformat": 4,
 "nbformat_minor": 5
}
